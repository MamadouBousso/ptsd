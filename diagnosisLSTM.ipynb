{
 "cells": [
  {
   "cell_type": "code",
   "execution_count": 395,
   "metadata": {
    "colab": {},
    "colab_type": "code",
    "id": "DMB-Dc3LfV0N"
   },
   "outputs": [],
   "source": [
    "import glob\n",
    "import sys\n",
    "import pandas as pd\n",
    "import numpy as np\n",
    "\n",
    "import nltk\n",
    "from nltk.stem import WordNetLemmatizer\n",
    "from nltk.tokenize import sent_tokenize, word_tokenize\n",
    "from sklearn.linear_model import LogisticRegression as LR\n",
    "from sklearn.feature_extraction.text import CountVectorizer\n",
    "from sklearn.feature_extraction import DictVectorizer\n",
    "from sklearn.feature_extraction.text import TfidfTransformer\n",
    "from sklearn.metrics import *\n",
    "from sklearn.model_selection import KFold\n",
    "from sklearn.pipeline import Pipeline\n",
    "from sklearn.pipeline import FeatureUnion\n",
    "from sklearn.base import BaseEstimator, TransformerMixin\n",
    "#import pandas as pd"
   ]
  },
  {
   "cell_type": "code",
   "execution_count": 396,
   "metadata": {
    "colab": {},
    "colab_type": "code",
    "id": "mAP0ZHVpfV0S"
   },
   "outputs": [],
   "source": [
    "# nltk.download('punkt')\n",
    "# nltk.download('wordnet')\n",
    "# nltk.download('averaged_perceptron_tagger')"
   ]
  },
  {
   "cell_type": "code",
   "execution_count": 398,
   "metadata": {
    "colab": {
     "base_uri": "https://localhost:8080/",
     "height": 901
    },
    "colab_type": "code",
    "id": "9VY-M3D0fV0b",
    "outputId": "db2efe37-aed9-40f3-d6d3-7c56021707b0"
   },
   "outputs": [
    {
     "data": {
      "text/html": [
       "<div>\n",
       "<style scoped>\n",
       "    .dataframe tbody tr th:only-of-type {\n",
       "        vertical-align: middle;\n",
       "    }\n",
       "\n",
       "    .dataframe tbody tr th {\n",
       "        vertical-align: top;\n",
       "    }\n",
       "\n",
       "    .dataframe thead th {\n",
       "        text-align: right;\n",
       "    }\n",
       "</style>\n",
       "<table border=\"1\" class=\"dataframe\">\n",
       "  <thead>\n",
       "    <tr style=\"text-align: right;\">\n",
       "      <th></th>\n",
       "      <th>transcript_id</th>\n",
       "      <th>character</th>\n",
       "      <th>text</th>\n",
       "      <th>Keywords / Significant sentences</th>\n",
       "      <th>A1</th>\n",
       "      <th>B1</th>\n",
       "      <th>B2</th>\n",
       "      <th>B3</th>\n",
       "      <th>B4</th>\n",
       "      <th>B5</th>\n",
       "      <th>...</th>\n",
       "      <th>D6</th>\n",
       "      <th>D7</th>\n",
       "      <th>E1</th>\n",
       "      <th>E2</th>\n",
       "      <th>E3</th>\n",
       "      <th>E4</th>\n",
       "      <th>E5</th>\n",
       "      <th>E6</th>\n",
       "      <th>F1</th>\n",
       "      <th>G1</th>\n",
       "    </tr>\n",
       "  </thead>\n",
       "  <tbody>\n",
       "    <tr>\n",
       "      <th>0</th>\n",
       "      <td>PTSD_file_1</td>\n",
       "      <td>CLIENT</td>\n",
       "      <td>Remind me never to go to a work meeting with a...</td>\n",
       "      <td>NaN</td>\n",
       "      <td>0.0</td>\n",
       "      <td>0.0</td>\n",
       "      <td>0.0</td>\n",
       "      <td>0.0</td>\n",
       "      <td>0.0</td>\n",
       "      <td>0.0</td>\n",
       "      <td>...</td>\n",
       "      <td>0.0</td>\n",
       "      <td>0.0</td>\n",
       "      <td>0.0</td>\n",
       "      <td>0.0</td>\n",
       "      <td>0.0</td>\n",
       "      <td>0.0</td>\n",
       "      <td>0.0</td>\n",
       "      <td>0.0</td>\n",
       "      <td>0.0</td>\n",
       "      <td>0.0</td>\n",
       "    </tr>\n",
       "    <tr>\n",
       "      <th>1</th>\n",
       "      <td>PTSD_file_1</td>\n",
       "      <td>THERAPIST</td>\n",
       "      <td>Those darn women.</td>\n",
       "      <td>NaN</td>\n",
       "      <td>0.0</td>\n",
       "      <td>0.0</td>\n",
       "      <td>0.0</td>\n",
       "      <td>0.0</td>\n",
       "      <td>0.0</td>\n",
       "      <td>0.0</td>\n",
       "      <td>...</td>\n",
       "      <td>0.0</td>\n",
       "      <td>0.0</td>\n",
       "      <td>0.0</td>\n",
       "      <td>0.0</td>\n",
       "      <td>0.0</td>\n",
       "      <td>0.0</td>\n",
       "      <td>0.0</td>\n",
       "      <td>0.0</td>\n",
       "      <td>0.0</td>\n",
       "      <td>0.0</td>\n",
       "    </tr>\n",
       "    <tr>\n",
       "      <th>2</th>\n",
       "      <td>PTSD_file_1</td>\n",
       "      <td>CLIENT</td>\n",
       "      <td>Damn women. Our boss is she's just a shut the ...</td>\n",
       "      <td>NaN</td>\n",
       "      <td>0.0</td>\n",
       "      <td>0.0</td>\n",
       "      <td>0.0</td>\n",
       "      <td>0.0</td>\n",
       "      <td>0.0</td>\n",
       "      <td>0.0</td>\n",
       "      <td>...</td>\n",
       "      <td>0.0</td>\n",
       "      <td>0.0</td>\n",
       "      <td>0.0</td>\n",
       "      <td>0.0</td>\n",
       "      <td>0.0</td>\n",
       "      <td>0.0</td>\n",
       "      <td>0.0</td>\n",
       "      <td>0.0</td>\n",
       "      <td>0.0</td>\n",
       "      <td>0.0</td>\n",
       "    </tr>\n",
       "    <tr>\n",
       "      <th>3</th>\n",
       "      <td>PTSD_file_1</td>\n",
       "      <td>THERAPIST</td>\n",
       "      <td>It's not that comfortable.</td>\n",
       "      <td>NaN</td>\n",
       "      <td>0.0</td>\n",
       "      <td>0.0</td>\n",
       "      <td>0.0</td>\n",
       "      <td>0.0</td>\n",
       "      <td>0.0</td>\n",
       "      <td>0.0</td>\n",
       "      <td>...</td>\n",
       "      <td>0.0</td>\n",
       "      <td>0.0</td>\n",
       "      <td>0.0</td>\n",
       "      <td>0.0</td>\n",
       "      <td>0.0</td>\n",
       "      <td>0.0</td>\n",
       "      <td>0.0</td>\n",
       "      <td>0.0</td>\n",
       "      <td>0.0</td>\n",
       "      <td>0.0</td>\n",
       "    </tr>\n",
       "    <tr>\n",
       "      <th>4</th>\n",
       "      <td>PTSD_file_1</td>\n",
       "      <td>CLIENT</td>\n",
       "      <td>What's that?</td>\n",
       "      <td>NaN</td>\n",
       "      <td>0.0</td>\n",
       "      <td>0.0</td>\n",
       "      <td>0.0</td>\n",
       "      <td>0.0</td>\n",
       "      <td>0.0</td>\n",
       "      <td>0.0</td>\n",
       "      <td>...</td>\n",
       "      <td>0.0</td>\n",
       "      <td>0.0</td>\n",
       "      <td>0.0</td>\n",
       "      <td>0.0</td>\n",
       "      <td>0.0</td>\n",
       "      <td>0.0</td>\n",
       "      <td>0.0</td>\n",
       "      <td>0.0</td>\n",
       "      <td>0.0</td>\n",
       "      <td>0.0</td>\n",
       "    </tr>\n",
       "  </tbody>\n",
       "</table>\n",
       "<p>5 rows × 27 columns</p>\n",
       "</div>"
      ],
      "text/plain": [
       "  transcript_id  character                                               text  \\\n",
       "0   PTSD_file_1     CLIENT  Remind me never to go to a work meeting with a...   \n",
       "1   PTSD_file_1  THERAPIST                                  Those darn women.   \n",
       "2   PTSD_file_1     CLIENT  Damn women. Our boss is she's just a shut the ...   \n",
       "3   PTSD_file_1  THERAPIST                         It's not that comfortable.   \n",
       "4   PTSD_file_1     CLIENT                                       What's that?   \n",
       "\n",
       "  Keywords / Significant sentences   A1   B1   B2   B3   B4   B5 ...    D6  \\\n",
       "0                              NaN  0.0  0.0  0.0  0.0  0.0  0.0 ...   0.0   \n",
       "1                              NaN  0.0  0.0  0.0  0.0  0.0  0.0 ...   0.0   \n",
       "2                              NaN  0.0  0.0  0.0  0.0  0.0  0.0 ...   0.0   \n",
       "3                              NaN  0.0  0.0  0.0  0.0  0.0  0.0 ...   0.0   \n",
       "4                              NaN  0.0  0.0  0.0  0.0  0.0  0.0 ...   0.0   \n",
       "\n",
       "    D7   E1   E2   E3   E4   E5   E6   F1   G1  \n",
       "0  0.0  0.0  0.0  0.0  0.0  0.0  0.0  0.0  0.0  \n",
       "1  0.0  0.0  0.0  0.0  0.0  0.0  0.0  0.0  0.0  \n",
       "2  0.0  0.0  0.0  0.0  0.0  0.0  0.0  0.0  0.0  \n",
       "3  0.0  0.0  0.0  0.0  0.0  0.0  0.0  0.0  0.0  \n",
       "4  0.0  0.0  0.0  0.0  0.0  0.0  0.0  0.0  0.0  \n",
       "\n",
       "[5 rows x 27 columns]"
      ]
     },
     "execution_count": 398,
     "metadata": {},
     "output_type": "execute_result"
    }
   ],
   "source": [
    "path = ''\n",
    "#Just a file of 180 sentences representing conversations between therapist and clients\n",
    "data_file = 'PTSD_annotated_data1.csv'\n",
    "\n",
    "separator = \";\"\n",
    "\n",
    "\n",
    "data_df = pd.read_csv(data_file, delimiter=';',encoding = 'ISO-8859-1')\n",
    "# keep the top 518 rows, as that is what is labeled for now\n",
    "\n",
    "data_df.head()"
   ]
  },
  {
   "cell_type": "code",
   "execution_count": 399,
   "metadata": {
    "scrolled": false
   },
   "outputs": [],
   "source": [
    "\n",
    "data_df = data_df.fillna(0)\n",
    "data_df = data_df.replace('NaN', 0)\n",
    "\n",
    "\n",
    "\n"
   ]
  },
  {
   "cell_type": "code",
   "execution_count": 400,
   "metadata": {
    "colab": {},
    "colab_type": "code",
    "id": "IZv7X0NYfV0f"
   },
   "outputs": [
    {
     "name": "stdout",
     "output_type": "stream",
     "text": [
      "['A1', 'B1', 'B2', 'B3', 'B4', 'B5', 'C1', 'C2', 'D1', 'D2', 'D3', 'D4', 'D5', 'D6', 'D7', 'E1', 'E2', 'E3', 'E4', 'E5', 'E6', 'F1', 'G1']\n"
     ]
    },
    {
     "data": {
      "image/png": "[encoded data removed]",
      "text/plain": [
       "<Figure size 842.4x595.44 with 1 Axes>"
      ]
     },
     "metadata": {},
     "output_type": "display_data"
    }
   ],
   "source": [
    "\n",
    "# Multilabel classification assigns to each sample a set of target labels. This can be thought as predicting properties of a data-point that are not mutually exclusive, such as topics that are relevant for a document. A text might be about any of religion, politics, finance or education at the same time or none of these.\n",
    "# already have 1 and 0s, and for now, a .5 can be a 1.\n",
    "\n",
    "import seaborn as sns\n",
    "import matplotlib as plt\n",
    "\n",
    "categories = list(data_df.columns.values)\n",
    "print(categories[4:])\n",
    "sns.set(font_scale = 2)\n",
    "sns.set(rc={'figure.figsize':(11.7,8.27)})\n",
    "\n",
    "sns.barplot(categories[4:], data_df.iloc[:,4:].sum().values).set_title('Count in each class', fontsize=20)\n",
    "\n",
    "labels = data_df.iloc[:,4:].sum().values\n"
   ]
  },
  {
   "cell_type": "code",
   "execution_count": 401,
   "metadata": {
    "colab": {
     "base_uri": "https://localhost:8080/",
     "height": 398
    },
    "colab_type": "code",
    "id": "DxbK0RSVfV0i",
    "outputId": "845fa310-2b3c-4eff-9ffa-ba9e9860f98b"
   },
   "outputs": [
    {
     "data": {
      "image/png": "[encoded data removed]",
      "text/plain": [
       "<Figure size 576x432 with 1 Axes>"
      ]
     },
     "metadata": {},
     "output_type": "display_data"
    }
   ],
   "source": [
    "#Count of text that has multiple label\n",
    "rowSums = data_df.iloc[:,4:].sum(axis=1)\n",
    "\n",
    "multiLabel_counts = rowSums.value_counts()\n",
    "\n",
    "multiLabel_counts = multiLabel_counts.iloc[1:]\n",
    "\n",
    "sns.set(font_scale = 2)\n",
    "sns.set(rc={'figure.figsize':(8,6)})\n",
    "sns.barplot(multiLabel_counts.index, multiLabel_counts.values).set_title('Count of text that has multiple labels', fontsize=20)\n",
    "\n",
    "ax = sns.barplot(multiLabel_counts.index, multiLabel_counts.values)\n",
    "rects = ax.patches\n",
    "labels = multiLabel_counts.values\n"
   ]
  },
  {
   "cell_type": "code",
   "execution_count": 402,
   "metadata": {},
   "outputs": [],
   "source": [
    "data_df.columns.ne(0.0).any(axis=1)\n",
    "#data_df['factorA1B1'] = data_df.apply(lambda row: \"1\" if row['A1']!= 0.0 and row['D4'] != 0.0  else \"0\", axis=1)  \n"
   ]
  },
  {
   "cell_type": "code",
   "execution_count": 403,
   "metadata": {},
   "outputs": [],
   "source": [
    "#data_df[data_df['factorA1B1']!='0']"
   ]
  },
  {
   "cell_type": "code",
   "execution_count": 404,
   "metadata": {
    "colab": {
     "base_uri": "https://localhost:8080/",
     "height": 119
    },
    "colab_type": "code",
    "id": "FwbGRrFUfV0l",
    "outputId": "692c49c3-fb0f-4222-fc12-ba27062cb557"
   },
   "outputs": [
    {
     "name": "stderr",
     "output_type": "stream",
     "text": [
      "[nltk_data] Downloading package stopwords to /Users/test/nltk_data...\n",
      "[nltk_data]   Package stopwords is already up-to-date!\n",
      "[nltk_data] Downloading package punkt to /Users/test/nltk_data...\n",
      "[nltk_data]   Package punkt is already up-to-date!\n",
      "[nltk_data] Downloading package wordnet to /Users/test/nltk_data...\n",
      "[nltk_data]   Package wordnet is already up-to-date!\n"
     ]
    }
   ],
   "source": [
    "# continue with guidance from: https://towardsdatascience.com/journey-to-the-center-of-multi-label-classification-384c40229bff\n",
    "\n",
    "import re\n",
    "nltk.download('stopwords')\n",
    "nltk.download('punkt')\n",
    "nltk.download('wordnet')\n",
    "from nltk.corpus import stopwords\n",
    "from nltk.stem import SnowballStemmer\n",
    "#is based on The Porter Stemming Algorithm\n",
    "wnl = nltk.stem.WordNetLemmatizer()\n",
    "stopword = stopwords.words('english')\n",
    "snowball_stemmer = SnowballStemmer('english')\n",
    "#function to tokenize, lemmatize, remove non-alpha characters, numbers in time stamps (00), stem, remove stop words\n",
    "\n",
    "def clean(sentence): \n",
    "    sentence = re.sub('[^A-Za-z!0-9]+', ' ', sentence)\n",
    "    \n",
    "    sentence = re.sub(r'\\d{2}','',sentence)\n",
    "    \n",
    "    sentence = sentence.strip()\n",
    "    \n",
    "    sentence = [wnl.lemmatize(i) for i in word_tokenize(sentence)]\n",
    "    \n",
    "    sentence = [snowball_stemmer.stem(word) for word in sentence]\n",
    "    \n",
    "    sentence = [word for word in sentence if word not in stopword]\n",
    "    \n",
    "\n",
    "    return sentence\n",
    "\n",
    "    \n",
    "    \n",
    "    "
   ]
  },
  {
   "cell_type": "code",
   "execution_count": 405,
   "metadata": {
    "colab": {},
    "colab_type": "code",
    "id": "w5hQRxXRfV0n"
   },
   "outputs": [],
   "source": [
    "\n",
    "\n",
    "\n",
    "#loads the text, cleans it, stores it into a list of lists, and calculates word frequency\n",
    "# changing to use the pandas df\n",
    "#It returns a list of list containing the tokens\n",
    "def load_df(df,textcolumn): \n",
    "    text_liste = []\n",
    "    for transcript in df[textcolumn].iteritems():\n",
    "        \n",
    "        tokens = clean(transcript[1])\n",
    "        \n",
    "        for word in tokens:\n",
    "            if word in word_count:\n",
    "                word_count[word] += 1\n",
    "            else:\n",
    "                word_count[word] = 1\n",
    "        text_liste.append(tokens)\n",
    "    return text_liste\n",
    " "
   ]
  },
  {
   "cell_type": "code",
   "execution_count": 406,
   "metadata": {
    "colab": {
     "base_uri": "https://localhost:8080/",
     "height": 51
    },
    "colab_type": "code",
    "id": "LN6k_E6VfV0p",
    "outputId": "0cfe4deb-0870-4552-f820-a00edeff1fd2",
    "scrolled": false
   },
   "outputs": [],
   "source": [
    "#dfnew = data_df[data_df['A1']>0.0]\n",
    "#Label each line with a category: one that is not null\n",
    "\n",
    "def recoverText(data_d,category,A):\n",
    "    \n",
    "    for cat in category:\n",
    "        \n",
    "        for texte in data_d[data_d[cat]>0.0].text:\n",
    "            A[0].append( texte )\n",
    "            A[1].append(cat)\n",
    "            \n",
    "            #A[2].append(data_d.at[i,'character'] ) \n",
    "        for i in list(data_d[data_d[cat]>0.0].index.values):\n",
    "            A[2].append( data_d.iloc[i].character )    \n",
    "            \n",
    "    return A\n",
    "#Build a dataframe of 3 columns with only lines not null for one category\n",
    "A = [[],[],[]]   \n",
    "A = recoverText(data_df,data_df.columns[4:],A)\n",
    "texte_series = pd.Series(A[0])\n",
    "categorie_series = pd.Series(A[1])\n",
    "character_series = pd.Series(A[2])\n",
    "data_dfNew = pd.DataFrame(character_series)\n",
    "data_dfNew = pd.concat([data_dfNew, texte_series,categorie_series ],axis=1)\n",
    "data_dfNew.columns = ['characters','texts','categories']\n"
   ]
  },
  {
   "cell_type": "code",
   "execution_count": 407,
   "metadata": {},
   "outputs": [],
   "source": [
    "import random\n",
    "#Create a new list of list containing lines that have 0 for every category\n",
    "# We randomly select a fixed number of lines in order to avoid imbalanced\n",
    "# There too many lines that don't belong to a category\n",
    "def recoverTextNonCategorized(data_d,A,m,n):\n",
    "    \"\"\" Create a list of lines that have 0 for every category.\n",
    "        Params:\n",
    "            the dataframe containing the data\n",
    "            A list of list that will contain the lines\n",
    "            m determine the categories we want\n",
    "            n the fixed number of lines we need\n",
    "            \n",
    "        Return:\n",
    "            A list of list containing the text, the character and a new category called NOT\n",
    "    \"\"\"\n",
    "    choosenj = []\n",
    "    for i in range(n):\n",
    "        j = random.choice(list(data_d[data_d.iloc[:,m:].sum(axis=1,skipna=True)==0.0].index.values))\n",
    "        if j not in choosenj:\n",
    "            \n",
    "            texte = data_d.at[j,'text']\n",
    "            charact = data_d.at[j,'character']\n",
    "            A[0].append( charact)\n",
    "            A[1].append(texte )\n",
    "            A[2].append('NOT'  )\n",
    "            choosenj.append(j)\n",
    "        else:\n",
    "            n = n + 1\n",
    "            \n",
    "               \n",
    "            \n",
    "    return A\n",
    "ANOT = [[],[],[]]\n",
    "ANOT = recoverTextNonCategorized(data_df,ANOT,4,60)\n"
   ]
  },
  {
   "cell_type": "code",
   "execution_count": 408,
   "metadata": {},
   "outputs": [],
   "source": [
    "#Create a dataframe containing a fix number of lines that don't belong to any category\n",
    "df2 = pd.DataFrame(ANOT[0], columns = ['characters'])\n",
    "df2['texts'] = ANOT[1]\n",
    "df2['categories'] = ANOT[2]\n",
    "data_dfNew = data_dfNew.append(df2).reset_index(drop=True)\n",
    "\n"
   ]
  },
  {
   "cell_type": "code",
   "execution_count": 554,
   "metadata": {
    "colab": {
     "base_uri": "https://localhost:8080/",
     "height": 782
    },
    "colab_type": "code",
    "id": "cYoz0-g6fV0r",
    "outputId": "88ad9650-55e0-4202-9975-18e366f43f91"
   },
   "outputs": [],
   "source": [
    "#Conatenate the two dataframes in order to have some equilibrium that can help avoid imbalance\n",
    "word_count = {}    \n",
    "text_list = load_df(data_dfNew,'texts')  \n",
    "\n",
    "\n",
    "\n",
    "\n",
    "\n",
    "text_list_series = pd.Series(text_list)\n",
    "\n",
    "df_w_tokens_cat = pd.concat([data_dfNew, text_list_series],axis=1)\n",
    "\n",
    "\n",
    "df_w_tokens_cat.columns = ['characters','texts','categories','tokens']                                                             \n",
    "\n",
    "\n",
    "\n"
   ]
  },
  {
   "cell_type": "markdown",
   "metadata": {},
   "source": [
    "This part of the document is dedicated to some word analysis in tokens with two techiques:\n",
    "- The co-occurrence matrix thet determine co-occurence of word depending on a window size.\n",
    "- The word2vec techniques based on Gensin and wv_from_bin from google. \n",
    "- We can have a look at the word most used by the client and the therapist\n",
    "- We can see the context of each word and if we have a word what will be its context"
   ]
  },
  {
   "cell_type": "code",
   "execution_count": 410,
   "metadata": {},
   "outputs": [],
   "source": [
    "def distinct_words(corpus):\n",
    "    \"\"\" Determine a list of distinct words for the corpus.\n",
    "        Params:\n",
    "            corpus (list of list of strings): corpus of documents\n",
    "        Return:\n",
    "            corpus_words (list of strings): list of distinct words across the corpus, sorted (using python 'sorted' function)\n",
    "            num_corpus_words (integer): number of distinct words across the corpus\n",
    "    \"\"\"\n",
    "    corpus_words = []\n",
    "    num_corpus_words = -1\n",
    "    \n",
    "    # ------------------\n",
    "    # Write your implementation here.\n",
    "    flatten_corpus  = [y for x in corpus for y in x]\n",
    "    corpus_words = sorted([y for y in set(flatten_corpus)])\n",
    "    \n",
    "    num_corpus_words = len(corpus_words )\n",
    "    # ------------------\n",
    "\n",
    "    return corpus_words, num_corpus_words"
   ]
  },
  {
   "cell_type": "code",
   "execution_count": 411,
   "metadata": {},
   "outputs": [],
   "source": [
    "\n",
    "def compute_co_occurrence_matrix(corpus, window_size=4):\n",
    "    \"\"\" Compute co-occurrence matrix for the given corpus and window_size (default of 4).\n",
    "    \n",
    "        Note: Each word in a document should be at the center of a window. Words near edges will have a smaller\n",
    "              number of co-occurring words.\n",
    "              \n",
    "             \n",
    "    \n",
    "        Params:\n",
    "            corpus (list of list of strings): corpus of documents\n",
    "            window_size (int): size of context window\n",
    "        Return:\n",
    "            M (numpy matrix of shape (number of corpus words, number of corpus words)): \n",
    "                Co-occurence matrix of word counts. \n",
    "                The ordering of the words in the rows/columns should be the same as the ordering of the words given by the distinct_words function.\n",
    "            word2Ind (dict): dictionary that maps word to index (i.e. row/column number) for matrix M.\n",
    "    \"\"\"\n",
    "    ##Get the distinct words of a corpus\n",
    "    words, num_words = distinct_words(corpus)\n",
    "    \n",
    "    M = None\n",
    "    word2Ind = {}\n",
    "    \n",
    "    \n",
    "    M = np.zeros((num_words,num_words))\n",
    "    # For each distinct word we get its index \n",
    "    # and search its index in each element of the corpus\n",
    "    for word in words:\n",
    "        \n",
    "        k = words.index(word)\n",
    "        word2Ind[word] = k\n",
    "        #\n",
    "        for i in range(len(corpus)):\n",
    "            #If the word is present in an element of the corpus \n",
    "            if word in corpus[i]:\n",
    "                # Get its list of index in this element of the corpus\n",
    "                listIndex=[j for j in range(len(corpus[i])) if corpus[i][j]== word]\n",
    "                for x in listIndex:\n",
    "                    #for each index we look at neighbors depending on the window size\n",
    "                    for j in range(1,window_size+1):\n",
    "                        if x-j >= 0:\n",
    "                            wordneighbor = corpus[i][x-j]\n",
    "                            l = words.index(wordneighbor)\n",
    "                            \n",
    "                            M[k,l] += 1\n",
    "                        if x + j < len(corpus[i]):\n",
    "                            wordneighbor = corpus[i][x+j]\n",
    "                            h = words.index(wordneighbor)\n",
    "                            \n",
    "                            M[k,h] += 1\n",
    "                    \n",
    "    \n",
    "    # ------------------\n",
    "\n",
    "    return M, word2Ind"
   ]
  },
  {
   "cell_type": "code",
   "execution_count": 412,
   "metadata": {},
   "outputs": [],
   "source": [
    "#Calculate the co-occurrence matrix for each token\n",
    "df_w_tokens_cat_M,df_w_tokens_cat_C =  compute_co_occurrence_matrix(df_w_tokens_cat.tokens, window_size=4)"
   ]
  },
  {
   "cell_type": "code",
   "execution_count": 413,
   "metadata": {},
   "outputs": [],
   "source": [
    "from sklearn.decomposition import TruncatedSVD\n",
    "from sklearn.decomposition import PCA\n",
    "def reduce_to_k_dim(M, k=2):\n",
    "    \"\"\" Reduce a co-occurence count matrix of dimensionality (num_corpus_words, num_corpus_words)\n",
    "        to a matrix of dimensionality (num_corpus_words, k) using the following SVD function from Scikit-Learn:\n",
    "            - http://scikit-learn.org/stable/modules/generated/sklearn.decomposition.TruncatedSVD.html\n",
    "    \n",
    "        Params:\n",
    "            M (numpy matrix of shape (number of corpus words, number of corpus words)): co-occurence matrix of word counts\n",
    "            k (int): embedding size of each word after dimension reduction\n",
    "        Return:\n",
    "            M_reduced (numpy matrix of shape (number of corpus words, k)): matrix of k-dimensioal word embeddings.\n",
    "                    In terms of the SVD from math class, this actually returns U * S\n",
    "    \"\"\"    \n",
    "    n_iters = 10     # Use this parameter in your call to `TruncatedSVD`\n",
    "    M_reduced = None\n",
    "    print(\"Running Truncated SVD over %i words...\" % (M.shape[0]))\n",
    "    \n",
    "        # ------------------\n",
    "        # Write your implementation here.\n",
    "    \n",
    "    svd = TruncatedSVD(n_components=k, n_iter=n_iters, random_state=42)\n",
    "    M_reduced = svd.fit(M).transform(M) \n",
    "\n",
    " \n",
    "        # ----------    \n",
    "\n",
    "\n",
    "\n",
    "    print(\"Done.\")\n",
    "    return M_reduced"
   ]
  },
  {
   "cell_type": "code",
   "execution_count": 414,
   "metadata": {},
   "outputs": [
    {
     "name": "stdout",
     "output_type": "stream",
     "text": [
      "Running Truncated SVD over 681 words...\n",
      "Done.\n"
     ]
    }
   ],
   "source": [
    "#Apply SVD to a co-occurence matrix\n",
    "df_w_tokens_cat_M_reduce = reduce_to_k_dim(df_w_tokens_cat_M, k=2)"
   ]
  },
  {
   "cell_type": "code",
   "execution_count": 475,
   "metadata": {},
   "outputs": [],
   "source": [
    "import matplotlib.pyplot as plt\n",
    "\n",
    "\n",
    "\n",
    "def plot_embeddings(M_reduced, word2Ind, words):\n",
    "    \"\"\" Plot in a scatterplot the embeddings of the words specified in the list \"words\".\n",
    "        NOTE: do not plot all the words listed in M_reduced / word2Ind.\n",
    "        Include a label next to each point.\n",
    "        \n",
    "        Params:\n",
    "            M_reduced (numpy matrix of shape (number of unique words in the corpus , k)): matrix of k-dimensioal word embeddings\n",
    "            word2Ind (dict): dictionary that maps word to indices for matrix M\n",
    "            words (list of strings): words whose embeddings we want to visualize\n",
    "    \"\"\"\n",
    "\n",
    "    # ------------------\n",
    "    # Write your implementation here.\n",
    "    plt.figure(figsize=(20,10))\n",
    "    for i,word in enumerate(words):\n",
    "        x = M_reduced[i][0]\n",
    "        y = M_reduced[i][1]\n",
    "        plt.scatter(x+0.03, y+0.03, marker='x', color='red')\n",
    "        plt.text(x, y, word, fontsize=20)\n",
    "    plt.show()\n",
    "    # ------------------"
   ]
  },
  {
   "cell_type": "code",
   "execution_count": 495,
   "metadata": {},
   "outputs": [],
   "source": [
    "from matplotlib import pyplot\n",
    "def plot_embeddings_pyplot(M_reduced, word2Ind, words):\n",
    "    \"\"\" Plot in a scatterplot the embeddings of the words specified in the list \"words\".\n",
    "        NOTE: do not plot all the words listed in M_reduced / word2Ind.\n",
    "        Include a label next to each point.\n",
    "        \n",
    "        Params:\n",
    "            M_reduced (numpy matrix of shape (number of unique words in the corpus , k)): matrix of k-dimensioal word embeddings\n",
    "            word2Ind (dict): dictionary that maps word to indices for matrix M\n",
    "            words (list of strings): words whose embeddings we want to visualize\n",
    "    \"\"\"\n",
    "\n",
    "    # ------------------\n",
    "    # Write your implementation here.\n",
    "    pyplot.figure(figsize=(8,8))\n",
    "    # create a scatter plot of the projection\n",
    "    \n",
    "    \n",
    "    for i, word in enumerate(words):\n",
    "        pyplot.scatter(M_reduced[i, 0], M_reduced[i, 1],marker='x', color='red')\n",
    "        pyplot.annotate(word, xy=(M_reduced[i, 0], M_reduced[i, 1]))\n",
    "    pyplot.show()\n",
    "    \n",
    "    # ------------------"
   ]
  },
  {
   "cell_type": "code",
   "execution_count": 555,
   "metadata": {},
   "outputs": [
    {
     "name": "stderr",
     "output_type": "stream",
     "text": [
      "/anaconda3/envs/Python37/lib/python3.6/site-packages/ipykernel_launcher.py:3: RuntimeWarning: invalid value encountered in true_divide\n",
      "  This is separate from the ipykernel package so we can avoid doing imports until\n"
     ]
    },
    {
     "data": {
      "image/png": "[encoded data removed]",
      "text/plain": [
       "<Figure size 576x576 with 1 Axes>"
      ]
     },
     "metadata": {},
     "output_type": "display_data"
    }
   ],
   "source": [
    "# Rescale (normalize) the rows to make them each of unit-length\n",
    "M_lengths = np.linalg.norm(df_w_tokens_cat_M_reduce, axis=1)\n",
    "M_normalized = df_w_tokens_cat_M_reduce / M_lengths[:, np.newaxis] # broadcasting\n",
    "\n",
    "\n",
    "words = ['die', 'father', 'trauma', 'fear', 'dream','scare','masochistic','hurt','Yeah']\n",
    "\n",
    "\n",
    "plot_embeddings_pyplot(M_normalized, df_w_tokens_cat_C, words)"
   ]
  },
  {
   "cell_type": "code",
   "execution_count": 497,
   "metadata": {},
   "outputs": [],
   "source": [
    "#Depending on val get the word\n",
    "def  getWord(val):\n",
    "    keys = []\n",
    "    for key, value in df_w_tokens_cat_C.items():\n",
    "        if value == val:\n",
    "            \n",
    "            keys.append(key)\n",
    "    return keys[0]\n",
    "    "
   ]
  },
  {
   "cell_type": "code",
   "execution_count": 498,
   "metadata": {},
   "outputs": [],
   "source": [
    "#For each word in the vocabulary, we can see based on the co-occurrence Matrix the words of its context\n",
    "def getWordNeighborDist(Mat,word_index, word):\n",
    "    theDict = {}\n",
    "    if word in list(word_count.keys()):\n",
    "        indx = word_count[word]\n",
    "    \n",
    "        L = list(Mat[indx,:])\n",
    "        theDict = {getWord(key):value for (key,value) in enumerate(L) if value > 0.0}\n",
    "    else:\n",
    "        print(\"this word not exist in the vocabulary\")\n",
    "    return theDict\n",
    "\n",
    "\n",
    "    \n",
    "word = \"trauma\"\n",
    "\n",
    "theDict = getWordNeighborDist(df_w_tokens_cat_M,df_w_tokens_cat_C, word)\n"
   ]
  },
  {
   "cell_type": "code",
   "execution_count": 499,
   "metadata": {
    "scrolled": false
   },
   "outputs": [
    {
     "name": "stdout",
     "output_type": "stream",
     "text": [
      "[1.0, 2.0, 1.0, 1.0, 1.0, 1.0, 1.0]\n"
     ]
    },
    {
     "data": {
      "image/png": "[encoded data removed]",
      "text/plain": [
       "<Figure size 1080x1080 with 1 Axes>"
      ]
     },
     "metadata": {},
     "output_type": "display_data"
    }
   ],
   "source": [
    "#Plot the context of a word \n",
    "def word_relation_plot(theDic):\n",
    "    if theDic != {}:\n",
    "        keys = list(theDic.keys())\n",
    "        vals = list(theDic.values())\n",
    "        print(vals)\n",
    "        sns.set(style=\"white\", rc={\"lines.linewidth\": 3})\n",
    "        fig, ax1 = plt.subplots(figsize=(15,15))\n",
    "\n",
    "        sns.barplot(x= keys,\n",
    "            y= vals, \n",
    "            color='#004488',\n",
    "            ax=ax1)\n",
    "\n",
    "        plt.show()\n",
    "        sns.set()\n",
    "    else:\n",
    "        print(\"Nothing to print \")\n",
    "word_relation_plot(theDict)"
   ]
  },
  {
   "cell_type": "code",
   "execution_count": 556,
   "metadata": {},
   "outputs": [],
   "source": [
    "#Find the word mostly or leastly used by the client or the therapist\n",
    "\n",
    "df_tokens_client = df_w_tokens_cat.loc[df_w_tokens_cat['characters']=='CLIENT']\n",
    "df_tokens_therapist = df_w_tokens_cat.loc[df_w_tokens_cat['characters']=='THERAPIST']\n",
    "\n",
    "def getWordMostorLeastUsed( dataList, numData,order):\n",
    "    \"\"\" Find words mostly or leastly used by the client or the therapist\n",
    "\n",
    "\n",
    "        Params:\n",
    "            dataList: List of list of tokens\n",
    "            numData: The fixed number of words\n",
    "            order: determines the mostly or leastly used words\n",
    "        Return:\n",
    "            list of words and list of counts of these words\n",
    "    \"\"\"\n",
    "    listwords = []\n",
    "    listwordsandNum = []\n",
    "    \n",
    "    d = dict()\n",
    "    for listword in dataList:\n",
    "        for word in listword:\n",
    "            d[word] = d.get(word,0)+1\n",
    "    \n",
    "    i = 0\n",
    "    for w in sorted(d, key=d.get, reverse=order):\n",
    "        listwords.append(w)\n",
    "        listwordsandNum.append((w, d[w]))\n",
    "        i = i+1\n",
    "        if i == numData: break\n",
    "    return listwords,listwordsandNum\n",
    "    \n",
    "\n",
    "LUsedWords,LUsedWordsNum = getWordMostorLeastUsed( df_tokens_client['tokens'], 40,False)\n"
   ]
  },
  {
   "cell_type": "markdown",
   "metadata": {},
   "source": [
    "#Word2vec techniques in order to learn the context of a word"
   ]
  },
  {
   "cell_type": "code",
   "execution_count": 557,
   "metadata": {},
   "outputs": [],
   "source": [
    "def load_word2vec():\n",
    "    \"\"\" Load Word2Vec Vectors\n",
    "        Return:\n",
    "            wv_from_bin: All 3 million embeddings, each lengh 300\n",
    "    \"\"\"\n",
    "    import gensim.downloader as api\n",
    "    wv_from_bin = api.load(\"word2vec-google-news-300\")\n",
    "    vocab = list(wv_from_bin.vocab.keys())\n",
    "    print(\"Loaded vocab size %i\" % len(vocab))\n",
    "    return wv_from_bin"
   ]
  },
  {
   "cell_type": "code",
   "execution_count": 558,
   "metadata": {},
   "outputs": [
    {
     "name": "stderr",
     "output_type": "stream",
     "text": [
      "/anaconda3/envs/Python37/lib/python3.6/site-packages/smart_open/smart_open_lib.py:398: UserWarning: This function is deprecated, use smart_open.open instead. See the migration notes for details: https://github.com/RaRe-Technologies/smart_open/blob/master/README.rst#migrating-to-the-new-open-function\n",
      "  'See the migration notes for details: %s' % _MIGRATION_NOTES_URL\n"
     ]
    },
    {
     "name": "stdout",
     "output_type": "stream",
     "text": [
      "Loaded vocab size 3000000\n"
     ]
    }
   ],
   "source": [
    "\n",
    " \n",
    "wv_from_bin = load_word2vec()\n",
    "\n"
   ]
  },
  {
   "cell_type": "code",
   "execution_count": 559,
   "metadata": {},
   "outputs": [],
   "source": [
    "#Word To Vec\n",
    "import random\n",
    "def get_matrix_of_vectors(wv_from_bin, required_words=['trauma', 'fear']):\n",
    "    \"\"\" Put the word2vec vectors into a matrix M.\n",
    "        Param:\n",
    "            wv_from_bin: KeyedVectors object; the 3 million word2vec vectors loaded from file\n",
    "        Return:\n",
    "            M: numpy matrix shape (num words, 300) containing the vectors\n",
    "            word2Ind: dictionary mapping each word to its row number in M\n",
    "    \"\"\"\n",
    "    \n",
    "    words = list(wv_from_bin.vocab.keys())\n",
    "    print(\"Shuffling words ...\")\n",
    "    random.shuffle(words)\n",
    "    words = words[:10000]\n",
    "    print(\"Putting %i words into word2Ind and matrix M...\" % len(words))\n",
    "    word2Ind = {}\n",
    "    M = []\n",
    "    curInd = 0\n",
    "    for w in words:\n",
    "        try:\n",
    "            M.append(wv_from_bin.word_vec(w))\n",
    "            word2Ind[w] = curInd\n",
    "            curInd += 1\n",
    "        except KeyError:\n",
    "            continue\n",
    "    for w in required_words:\n",
    "        try:\n",
    "            M.append(wv_from_bin.word_vec(w))\n",
    "            word2Ind[w] = curInd\n",
    "            curInd += 1\n",
    "        except KeyError:\n",
    "            continue\n",
    "    M = np.stack(M)\n",
    "    print(\"Done.\")\n",
    "    return M, word2Ind"
   ]
  },
  {
   "cell_type": "code",
   "execution_count": 508,
   "metadata": {},
   "outputs": [
    {
     "name": "stdout",
     "output_type": "stream",
     "text": [
      "Shuffling words ...\n",
      "Putting 10000 words into word2Ind and matrix M...\n",
      "Done.\n",
      "Running Truncated SVD over 10036 words...\n",
      "Done.\n"
     ]
    }
   ],
   "source": [
    "M, word2Ind = get_matrix_of_vectors(wv_from_bin,LUsedWords)\n",
    "M_reduced = reduce_to_k_dim(M, k=2)\n"
   ]
  },
  {
   "cell_type": "code",
   "execution_count": 510,
   "metadata": {},
   "outputs": [
    {
     "data": {
      "image/png": "[encoded data removed]",
      "text/plain": [
       "<Figure size 576x576 with 1 Axes>"
      ]
     },
     "metadata": {},
     "output_type": "display_data"
    }
   ],
   "source": [
    "# We used the word leastly used by the client with word2vec and plot the proximity between them\n",
    "M_lengths = np.linalg.norm(M_reduced, axis=1)\n",
    "M_normalized = M_reduced / M_lengths[:, np.newaxis] # broadcasting\n",
    "\n",
    "\n",
    "plot_embeddings_pyplot(M_reduced, word2Ind, LUsedWords)"
   ]
  },
  {
   "cell_type": "markdown",
   "metadata": {},
   "source": [
    "# This part is dedicated to LSTM\n",
    "- We vectorize the data based on TFIDF\n",
    "- We detrmine the train and test sample\n",
    "- We pass it to LSTM RNN model build on keras\n"
   ]
  },
  {
   "cell_type": "code",
   "execution_count": 560,
   "metadata": {
    "colab": {
     "base_uri": "https://localhost:8080/",
     "height": 34
    },
    "colab_type": "code",
    "id": "7xU9ppNDfV0t",
    "outputId": "4c99fcc1-24ee-4816-a603-ca4844e4c3ad"
   },
   "outputs": [
    {
     "name": "stdout",
     "output_type": "stream",
     "text": [
      "Shape of label tensor: (133, 15)\n",
      "(93, 1655)\n"
     ]
    }
   ],
   "source": [
    "# Bag of Words \n",
    "\n",
    "from sklearn.model_selection import train_test_split\n",
    "y = pd.get_dummies(df_w_tokens_cat['categories']).values\n",
    "\n",
    "X =  df_w_tokens_cat.drop(['texts','categories'],axis=1)\n",
    "Xtrain,Xtest,ytrain, ytest = train_test_split(X,y, random_state=42, test_size=0.30, shuffle=True)\n",
    "\n",
    "# consider a stratified test/train split, and/or temporal\n",
    "\n",
    "def dummy_fun(doc):\n",
    "    return doc\n",
    "\n",
    "from sklearn.feature_extraction.text import TfidfVectorizer\n",
    "vectorizer = TfidfVectorizer(\n",
    "    analyzer='word', \n",
    "    ngram_range=(1,3), \n",
    "    norm='l2',     \n",
    "    tokenizer=dummy_fun,\n",
    "    preprocessor=dummy_fun,\n",
    "    token_pattern=None)\n",
    "\n",
    "\n",
    "vectorizer.fit(Xtrain['tokens'])\n",
    "vectorizer.fit(Xtest['tokens'])\n",
    "\n",
    "x_train = vectorizer.transform(Xtrain['tokens'])\n",
    "\n",
    "x_test = vectorizer.transform(Xtest['tokens'])\n",
    "\n",
    "print('Shape of label tensor:', y.shape)\n",
    "#print(categories[4:])\n",
    "print(x_train.shape)\n"
   ]
  },
  {
   "cell_type": "code",
   "execution_count": 552,
   "metadata": {},
   "outputs": [
    {
     "name": "stdout",
     "output_type": "stream",
     "text": [
      "Train on 74 samples, validate on 19 samples\n",
      "Epoch 1/10\n",
      "74/74 [==============================] - 24s 325ms/step - loss: 2.7367 - acc: 0.0000e+00 - val_loss: 2.5196 - val_acc: 0.6842\n",
      "Epoch 2/10\n",
      "74/74 [==============================] - 22s 296ms/step - loss: 2.5965 - acc: 0.4189 - val_loss: 2.2259 - val_acc: 0.6842\n",
      "Epoch 3/10\n",
      "74/74 [==============================] - 23s 308ms/step - loss: 2.4223 - acc: 0.4189 - val_loss: 1.9553 - val_acc: 0.6842\n",
      "Epoch 4/10\n",
      "74/74 [==============================] - 24s 328ms/step - loss: 2.2858 - acc: 0.4189 - val_loss: 1.6958 - val_acc: 0.6842\n",
      "Epoch 5/10\n",
      "74/74 [==============================] - 22s 300ms/step - loss: 2.1790 - acc: 0.4189 - val_loss: 1.5608 - val_acc: 0.6842\n",
      "Epoch 6/10\n",
      "74/74 [==============================] - 26s 349ms/step - loss: 2.1691 - acc: 0.4189 - val_loss: 1.5475 - val_acc: 0.6842\n",
      "Epoch 7/10\n",
      "74/74 [==============================] - 23s 310ms/step - loss: 2.1988 - acc: 0.4189 - val_loss: 1.5725 - val_acc: 0.6842\n",
      "Epoch 8/10\n",
      "74/74 [==============================] - 28s 380ms/step - loss: 2.1571 - acc: 0.4189 - val_loss: 1.6180 - val_acc: 0.6842\n",
      "Epoch 9/10\n",
      "74/74 [==============================] - 27s 359ms/step - loss: 2.1428 - acc: 0.4189 - val_loss: 1.6847 - val_acc: 0.6842\n",
      "Epoch 10/10\n",
      "74/74 [==============================] - 22s 299ms/step - loss: 2.1086 - acc: 0.4189 - val_loss: 1.7595 - val_acc: 0.6842\n"
     ]
    }
   ],
   "source": [
    "import keras\n",
    "from keras.layers import Activation, Dense\n",
    "from keras.layers import LSTM\n",
    "from keras.layers import Embedding\n",
    "from keras.models import Sequential\n",
    "model = Sequential()\n",
    "model.add(Embedding(94, 1655))\n",
    "\n",
    "model.add(LSTM(100, dropout=0.2, recurrent_dropout=0.2))\n",
    "model.add(Dense(15, activation='softmax'))\n",
    "model.compile(loss='categorical_crossentropy', optimizer='adam', metrics=['accuracy'])\n",
    "\n",
    "\n",
    "history = model.fit(x_train, ytrain,\n",
    "                    epochs=10,\n",
    "                    batch_size=128,\n",
    "                    validation_split=0.2)"
   ]
  },
  {
   "cell_type": "code",
   "execution_count": 561,
   "metadata": {},
   "outputs": [
    {
     "name": "stdout",
     "output_type": "stream",
     "text": [
      "40/40 [==============================] - 5s 126ms/step\n",
      "Test set\n",
      "  Loss: 2.261\n",
      "  Accuracy: 0.400\n"
     ]
    }
   ],
   "source": [
    "accr = model.evaluate(x_test,ytest)\n",
    "print('Test set\\n  Loss: {:0.3f}\\n  Accuracy: {:0.3f}'.format(accr[0],accr[1]))"
   ]
  },
  {
   "cell_type": "code",
   "execution_count": 562,
   "metadata": {},
   "outputs": [
    {
     "data": {
      "image/png": "[encoded data removed]",
      "text/plain": [
       "<Figure size 576x432 with 1 Axes>"
      ]
     },
     "metadata": {},
     "output_type": "display_data"
    }
   ],
   "source": [
    "plt.title('Loss')\n",
    "plt.plot(history.history['loss'], label='train')\n",
    "plt.plot(history.history['val_loss'], label='test')\n",
    "plt.legend()\n",
    "plt.show();"
   ]
  },
  {
   "cell_type": "code",
   "execution_count": 563,
   "metadata": {},
   "outputs": [
    {
     "data": {
      "image/png": "[encoded data removed]",
      "text/plain": [
       "<Figure size 576x432 with 1 Axes>"
      ]
     },
     "metadata": {},
     "output_type": "display_data"
    }
   ],
   "source": [
    "plt.title('Accuracy')\n",
    "plt.plot(history.history['acc'], label='train')\n",
    "plt.plot(history.history['val_acc'], label='test')\n",
    "plt.legend()\n",
    "plt.show();"
   ]
  },
  {
   "cell_type": "code",
   "execution_count": null,
   "metadata": {
    "colab": {},
    "colab_type": "code",
    "id": "n541cmUUfV01"
   },
   "outputs": [],
   "source": []
  },
  {
   "cell_type": "code",
   "execution_count": null,
   "metadata": {},
   "outputs": [],
   "source": []
  }
 ],
 "metadata": {
  "colab": {
   "name": "diagnosis_LR.ipynb",
   "provenance": [],
   "version": "0.3.2"
  },
  "kernelspec": {
   "display_name": "Python 3",
   "language": "python",
   "name": "python3"
  },
  "language_info": {
   "codemirror_mode": {
    "name": "ipython",
    "version": 3
   },
   "file_extension": ".py",
   "mimetype": "text/x-python",
   "name": "python",
   "nbconvert_exporter": "python",
   "pygments_lexer": "ipython3",
   "version": "3.6.7"
  },
  "toc": {
   "base_numbering": 1,
   "nav_menu": {},
   "number_sections": true,
   "sideBar": true,
   "skip_h1_title": false,
   "title_cell": "Table of Contents",
   "title_sidebar": "Contents",
   "toc_cell": false,
   "toc_position": {},
   "toc_section_display": true,
   "toc_window_display": false
  }
 },
 "nbformat": 4,
 "nbformat_minor": 1
}
